{
 "cells": [
  {
   "cell_type": "code",
   "execution_count": 1,
   "id": "24831072-fde1-4dcf-ada9-c5da33531dff",
   "metadata": {},
   "outputs": [],
   "source": [
    "import pandas as pd"
   ]
  },
  {
   "cell_type": "code",
   "execution_count": 2,
   "id": "b2d206ae-4c4f-4f38-a37e-cbd2edc98dfb",
   "metadata": {},
   "outputs": [
    {
     "name": "stderr",
     "output_type": "stream",
     "text": [
      "C:\\Users\\gabriel\\AppData\\Local\\Temp\\ipykernel_25108\\3644190380.py:1: DtypeWarning: Columns (6) have mixed types. Specify dtype option on import or set low_memory=False.\n",
      "  df = pd.read_csv(\"gene_info\", sep=\"\\t\")\n"
     ]
    }
   ],
   "source": [
    "df = pd.read_csv(\"data/gene_info\", sep=\"\\t\")"
   ]
  },
  {
   "cell_type": "code",
   "execution_count": 9,
   "id": "1b472f18-81a1-4ed1-bff1-f299ed19c5ff",
   "metadata": {},
   "outputs": [
    {
     "data": {
      "text/html": [
       "<div>\n",
       "<style scoped>\n",
       "    .dataframe tbody tr th:only-of-type {\n",
       "        vertical-align: middle;\n",
       "    }\n",
       "\n",
       "    .dataframe tbody tr th {\n",
       "        vertical-align: top;\n",
       "    }\n",
       "\n",
       "    .dataframe thead th {\n",
       "        text-align: right;\n",
       "    }\n",
       "</style>\n",
       "<table border=\"1\" class=\"dataframe\">\n",
       "  <thead>\n",
       "    <tr style=\"text-align: right;\">\n",
       "      <th></th>\n",
       "      <th>#tax_id</th>\n",
       "      <th>GeneID</th>\n",
       "      <th>Modification_date</th>\n",
       "    </tr>\n",
       "  </thead>\n",
       "  <tbody>\n",
       "    <tr>\n",
       "      <th>count</th>\n",
       "      <td>3.655164e+07</td>\n",
       "      <td>3.655164e+07</td>\n",
       "      <td>3.655164e+07</td>\n",
       "    </tr>\n",
       "    <tr>\n",
       "      <th>mean</th>\n",
       "      <td>3.462622e+05</td>\n",
       "      <td>8.444152e+07</td>\n",
       "      <td>2.020174e+07</td>\n",
       "    </tr>\n",
       "    <tr>\n",
       "      <th>std</th>\n",
       "      <td>5.853936e+05</td>\n",
       "      <td>3.875042e+07</td>\n",
       "      <td>1.672508e+04</td>\n",
       "    </tr>\n",
       "    <tr>\n",
       "      <th>min</th>\n",
       "      <td>7.000000e+00</td>\n",
       "      <td>1.000000e+00</td>\n",
       "      <td>2.006031e+07</td>\n",
       "    </tr>\n",
       "    <tr>\n",
       "      <th>25%</th>\n",
       "      <td>9.597000e+03</td>\n",
       "      <td>5.662551e+07</td>\n",
       "      <td>2.020010e+07</td>\n",
       "    </tr>\n",
       "    <tr>\n",
       "      <th>50%</th>\n",
       "      <td>6.804200e+04</td>\n",
       "      <td>1.051073e+08</td>\n",
       "      <td>2.021032e+07</td>\n",
       "    </tr>\n",
       "    <tr>\n",
       "      <th>75%</th>\n",
       "      <td>3.811980e+05</td>\n",
       "      <td>1.151368e+08</td>\n",
       "      <td>2.021102e+07</td>\n",
       "    </tr>\n",
       "    <tr>\n",
       "      <th>max</th>\n",
       "      <td>2.914709e+06</td>\n",
       "      <td>1.244169e+08</td>\n",
       "      <td>2.022022e+07</td>\n",
       "    </tr>\n",
       "  </tbody>\n",
       "</table>\n",
       "</div>"
      ],
      "text/plain": [
       "            #tax_id        GeneID  Modification_date\n",
       "count  3.655164e+07  3.655164e+07       3.655164e+07\n",
       "mean   3.462622e+05  8.444152e+07       2.020174e+07\n",
       "std    5.853936e+05  3.875042e+07       1.672508e+04\n",
       "min    7.000000e+00  1.000000e+00       2.006031e+07\n",
       "25%    9.597000e+03  5.662551e+07       2.020010e+07\n",
       "50%    6.804200e+04  1.051073e+08       2.021032e+07\n",
       "75%    3.811980e+05  1.151368e+08       2.021102e+07\n",
       "max    2.914709e+06  1.244169e+08       2.022022e+07"
      ]
     },
     "execution_count": 9,
     "metadata": {},
     "output_type": "execute_result"
    }
   ],
   "source": [
    "df.describe()"
   ]
  },
  {
   "cell_type": "code",
   "execution_count": 6,
   "id": "8759222b-6d98-4d30-8099-72f951b391c2",
   "metadata": {},
   "outputs": [
    {
     "data": {
      "text/plain": [
       "36551637"
      ]
     },
     "execution_count": 6,
     "metadata": {},
     "output_type": "execute_result"
    }
   ],
   "source": [
    "len(df)"
   ]
  },
  {
   "cell_type": "code",
   "execution_count": 19,
   "id": "e8089efa-d061-4ec6-a3bd-a05dddc0b213",
   "metadata": {},
   "outputs": [
    {
     "data": {
      "text/html": [
       "<div>\n",
       "<style scoped>\n",
       "    .dataframe tbody tr th:only-of-type {\n",
       "        vertical-align: middle;\n",
       "    }\n",
       "\n",
       "    .dataframe tbody tr th {\n",
       "        vertical-align: top;\n",
       "    }\n",
       "\n",
       "    .dataframe thead th {\n",
       "        text-align: right;\n",
       "    }\n",
       "</style>\n",
       "<table border=\"1\" class=\"dataframe\">\n",
       "  <thead>\n",
       "    <tr style=\"text-align: right;\">\n",
       "      <th></th>\n",
       "      <th>#tax_id</th>\n",
       "      <th>GeneID</th>\n",
       "      <th>Symbol</th>\n",
       "      <th>LocusTag</th>\n",
       "      <th>Synonyms</th>\n",
       "      <th>dbXrefs</th>\n",
       "      <th>chromosome</th>\n",
       "      <th>map_location</th>\n",
       "      <th>description</th>\n",
       "      <th>type_of_gene</th>\n",
       "      <th>Symbol_from_nomenclature_authority</th>\n",
       "      <th>Full_name_from_nomenclature_authority</th>\n",
       "      <th>Nomenclature_status</th>\n",
       "      <th>Other_designations</th>\n",
       "      <th>Modification_date</th>\n",
       "      <th>Feature_type</th>\n",
       "    </tr>\n",
       "  </thead>\n",
       "  <tbody>\n",
       "    <tr>\n",
       "      <th>0</th>\n",
       "      <td>7</td>\n",
       "      <td>5692769</td>\n",
       "      <td>NEWENTRY</td>\n",
       "      <td>-</td>\n",
       "      <td>-</td>\n",
       "      <td>-</td>\n",
       "      <td>-</td>\n",
       "      <td>-</td>\n",
       "      <td>Record to support submission of GeneRIFs for a...</td>\n",
       "      <td>other</td>\n",
       "      <td>-</td>\n",
       "      <td>-</td>\n",
       "      <td>-</td>\n",
       "      <td>-</td>\n",
       "      <td>20210407</td>\n",
       "      <td>-</td>\n",
       "    </tr>\n",
       "    <tr>\n",
       "      <th>1</th>\n",
       "      <td>9</td>\n",
       "      <td>2827857</td>\n",
       "      <td>NEWENTRY</td>\n",
       "      <td>-</td>\n",
       "      <td>-</td>\n",
       "      <td>-</td>\n",
       "      <td>-</td>\n",
       "      <td>-</td>\n",
       "      <td>Record to support submission of GeneRIFs for a...</td>\n",
       "      <td>other</td>\n",
       "      <td>-</td>\n",
       "      <td>-</td>\n",
       "      <td>-</td>\n",
       "      <td>-</td>\n",
       "      <td>20160921</td>\n",
       "      <td>-</td>\n",
       "    </tr>\n",
       "    <tr>\n",
       "      <th>2</th>\n",
       "      <td>11</td>\n",
       "      <td>10823747</td>\n",
       "      <td>NEWENTRY</td>\n",
       "      <td>-</td>\n",
       "      <td>-</td>\n",
       "      <td>-</td>\n",
       "      <td>-</td>\n",
       "      <td>-</td>\n",
       "      <td>Record to support submission of GeneRIFs for a...</td>\n",
       "      <td>other</td>\n",
       "      <td>-</td>\n",
       "      <td>-</td>\n",
       "      <td>-</td>\n",
       "      <td>-</td>\n",
       "      <td>20190325</td>\n",
       "      <td>-</td>\n",
       "    </tr>\n",
       "    <tr>\n",
       "      <th>3</th>\n",
       "      <td>14</td>\n",
       "      <td>6951813</td>\n",
       "      <td>NEWENTRY</td>\n",
       "      <td>-</td>\n",
       "      <td>-</td>\n",
       "      <td>-</td>\n",
       "      <td>-</td>\n",
       "      <td>-</td>\n",
       "      <td>Record to support submission of GeneRIFs for a...</td>\n",
       "      <td>other</td>\n",
       "      <td>-</td>\n",
       "      <td>-</td>\n",
       "      <td>-</td>\n",
       "      <td>-</td>\n",
       "      <td>20211023</td>\n",
       "      <td>-</td>\n",
       "    </tr>\n",
       "    <tr>\n",
       "      <th>4</th>\n",
       "      <td>19</td>\n",
       "      <td>3758873</td>\n",
       "      <td>NEWENTRY</td>\n",
       "      <td>-</td>\n",
       "      <td>-</td>\n",
       "      <td>-</td>\n",
       "      <td>-</td>\n",
       "      <td>-</td>\n",
       "      <td>Record to support submission of GeneRIFs for a...</td>\n",
       "      <td>other</td>\n",
       "      <td>-</td>\n",
       "      <td>-</td>\n",
       "      <td>-</td>\n",
       "      <td>-</td>\n",
       "      <td>20210215</td>\n",
       "      <td>-</td>\n",
       "    </tr>\n",
       "  </tbody>\n",
       "</table>\n",
       "</div>"
      ],
      "text/plain": [
       "   #tax_id    GeneID    Symbol LocusTag Synonyms dbXrefs chromosome  \\\n",
       "0        7   5692769  NEWENTRY        -        -       -          -   \n",
       "1        9   2827857  NEWENTRY        -        -       -          -   \n",
       "2       11  10823747  NEWENTRY        -        -       -          -   \n",
       "3       14   6951813  NEWENTRY        -        -       -          -   \n",
       "4       19   3758873  NEWENTRY        -        -       -          -   \n",
       "\n",
       "  map_location                                        description  \\\n",
       "0            -  Record to support submission of GeneRIFs for a...   \n",
       "1            -  Record to support submission of GeneRIFs for a...   \n",
       "2            -  Record to support submission of GeneRIFs for a...   \n",
       "3            -  Record to support submission of GeneRIFs for a...   \n",
       "4            -  Record to support submission of GeneRIFs for a...   \n",
       "\n",
       "  type_of_gene Symbol_from_nomenclature_authority  \\\n",
       "0        other                                  -   \n",
       "1        other                                  -   \n",
       "2        other                                  -   \n",
       "3        other                                  -   \n",
       "4        other                                  -   \n",
       "\n",
       "  Full_name_from_nomenclature_authority Nomenclature_status  \\\n",
       "0                                     -                   -   \n",
       "1                                     -                   -   \n",
       "2                                     -                   -   \n",
       "3                                     -                   -   \n",
       "4                                     -                   -   \n",
       "\n",
       "  Other_designations  Modification_date Feature_type  \n",
       "0                  -           20210407            -  \n",
       "1                  -           20160921            -  \n",
       "2                  -           20190325            -  \n",
       "3                  -           20211023            -  \n",
       "4                  -           20210215            -  "
      ]
     },
     "execution_count": 19,
     "metadata": {},
     "output_type": "execute_result"
    }
   ],
   "source": [
    "df.head(5)"
   ]
  },
  {
   "cell_type": "code",
   "execution_count": 14,
   "id": "63dfc211-eed9-43e5-a9da-f332613c956e",
   "metadata": {},
   "outputs": [
    {
     "data": {
      "text/plain": [
       "array(['other', 'protein-coding', 'pseudo', 'rRNA', 'tRNA', 'miscRNA',\n",
       "       'ncRNA', 'unknown', 'snRNA', 'snoRNA', 'scRNA',\n",
       "       'biological-region'], dtype=object)"
      ]
     },
     "execution_count": 14,
     "metadata": {},
     "output_type": "execute_result"
    }
   ],
   "source": [
    "type_of_genes = df['type_of_gene'].unique()\n",
    "type_of_genes"
   ]
  },
  {
   "cell_type": "code",
   "execution_count": 18,
   "id": "ca5af986-5ad5-4dd1-86cd-b98622441429",
   "metadata": {},
   "outputs": [
    {
     "data": {
      "text/plain": [
       "protein-coding       30142041\n",
       "ncRNA                 2314143\n",
       "pseudo                1780387\n",
       "tRNA                  1333433\n",
       "rRNA                   297066\n",
       "snoRNA                 288629\n",
       "snRNA                  241286\n",
       "other                   78773\n",
       "unknown                 60416\n",
       "biological-region        9463\n",
       "miscRNA                  5979\n",
       "scRNA                      21\n",
       "Name: type_of_gene, dtype: int64"
      ]
     },
     "execution_count": 18,
     "metadata": {},
     "output_type": "execute_result"
    }
   ],
   "source": [
    "value_count_genes = df['type_of_gene'].value_counts()\n",
    "value_count_genes"
   ]
  }
 ],
 "metadata": {
  "kernelspec": {
   "display_name": "Python 3 (ipykernel)",
   "language": "python",
   "name": "python3"
  },
  "language_info": {
   "codemirror_mode": {
    "name": "ipython",
    "version": 3
   },
   "file_extension": ".py",
   "mimetype": "text/x-python",
   "name": "python",
   "nbconvert_exporter": "python",
   "pygments_lexer": "ipython3",
   "version": "3.10.2"
  }
 },
 "nbformat": 4,
 "nbformat_minor": 5
}
